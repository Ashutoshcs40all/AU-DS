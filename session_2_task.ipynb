{
  "cells": [
    {
      "cell_type": "markdown",
      "metadata": {
        "id": "w6RlOAXV2PWh"
      },
      "source": [
        "    `Problem 1`: Write a program that will give you in hand monthly salary after deduction on CTC - HRA(10%), DA(5%), PF(3%) and taxes deduction as below:\n",
        "\n",
        "> Salary(Lakhs) : Tax(%)\n",
        "\n",
        "*   Below 5 : 0%\n",
        "*   5-10 : 10%\n",
        "*   10-20 : 20%\n",
        "*   aboove 20 : 30%"
      ]
    },
    {
      "cell_type": "code",
      "execution_count": 1,
      "metadata": {
        "id": "7tMHvKYO2etI"
      },
      "outputs": [
        {
          "name": "stdout",
          "output_type": "stream",
          "text": [
            "Your Annual Salary is 1500000.0\n",
            "Your monthly in-hand salary is: 861000.00 Lakhs\n"
          ]
        }
      ],
      "source": [
        "ctc = float(input(\"Enter your CTC (in Lakhs): \"))\n",
        "print(\"Your Annual Salary is\",ctc)\n",
        "def in_hand_salary(ctc):\n",
        "    hra_percentage = 0.1                                                # # Deductions\n",
        "    da_percentage = 0.05\n",
        "    pf_percentage = 0.03\n",
        "\n",
        "    tax_slabs = [                                                                 # Tax slabs\n",
        "        (5, 0),\n",
        "        (10, 0.1),\n",
        "        (20, 0.2),\n",
        "        (float('inf'), 0.3)\n",
        "    ]\n",
        "\n",
        "    hra = ctc * hra_percentage                                                    # Calculations\n",
        "    da = ctc * da_percentage\n",
        "    pf = ctc * pf_percentage\n",
        "\n",
        "    basic_salary = ctc - hra - da - pf\n",
        "\n",
        "    for slab, tax_rate in tax_slabs:\n",
        "        if basic_salary <= slab:                                                       # Calculate tax based on salary\n",
        "            tax = basic_salary * tax_rate\n",
        "            break\n",
        "\n",
        "    in_hand_salary = basic_salary - tax                                                     # Calculate in-hand salary\n",
        "\n",
        "    return in_hand_salary\n",
        "\n",
        "in_hand_salary = in_hand_salary(ctc)\n",
        "print(f\"Your monthly in-hand salary is: {in_hand_salary:.2f} Lakhs\")"
      ]
    },
    {
      "cell_type": "markdown",
      "metadata": {
        "id": "tYzCGqwl2hfN"
      },
      "source": [
        "    `Problem 2`: Write a program that take a user input of three angles and will find out whether it can form a triangle or not."
      ]
    },
    {
      "cell_type": "code",
      "execution_count": 3,
      "metadata": {
        "id": "FYEqln-I2kxV"
      },
      "outputs": [
        {
          "name": "stdout",
          "output_type": "stream",
          "text": [
            "Yes, these angles can form a triangle.\n"
          ]
        }
      ],
      "source": [
        "def is_valid_triangle(angle1, angle2, angle3):                           # Check if the sum of angles is equal to 180 degrees                                  \n",
        "    return angle1 + angle2 + angle3 == 180    \n",
        "\n",
        "angle1 = int(input(\"Enter the first angle: \"))                                  # Input angles from the user\n",
        "angle2 = int(input(\"Enter the second angle: \"))\n",
        "angle3 = int(input(\"Enter the third angle: \"))                                               \n",
        "\n",
        "if is_valid_triangle(angle1, angle2, angle3):                                       # Check if the angles can form a triangle\n",
        "    print(\"Yes, these angles can form a triangle.\")\n",
        "else:\n",
        "    print(\"No, these angles can't form a triangle.\")\n"
      ]
    },
    {
      "cell_type": "markdown",
      "metadata": {
        "id": "5vEpPh8C2pE4"
      },
      "source": [
        "### `Problem 3`: Write a program that will take user input of cost price and selling price and determines whether its a loss or a profit."
      ]
    },
    {
      "cell_type": "code",
      "execution_count": 13,
      "metadata": {
        "id": "jDwBXlkO2sfl"
      },
      "outputs": [
        {
          "name": "stdout",
          "output_type": "stream",
          "text": [
            "You have a Loss of 10000.00 units.\n"
          ]
        }
      ],
      "source": [
        "cost_price = float(input(\"Enter the cost price: \"))\n",
        "selling_price = float(input(\"Enter the selling price: \"))\n",
        "\n",
        "def calculate_profit_loss(cost_price, selling_price):\n",
        "                                                                # Calculate profit or loss\n",
        "    profit_loss = selling_price - cost_price\n",
        "                                           # Determine whether it's a profit or a loss\n",
        "    if profit_loss > 0:\n",
        "        return \"Profit\", profit_loss\n",
        "    elif profit_loss < 0:\n",
        "        return \"Loss\", abs(profit_loss)\n",
        "    else:\n",
        "        return \"No Profit, No Loss\", 0\n",
        "    \n",
        "# Calculate profit or loss and get the result\n",
        "result_type, amount = calculate_profit_loss(cost_price, selling_price)\n",
        "print(f\"You have a {result_type} of {amount:.2f} units.\")"
      ]
    },
    {
      "cell_type": "markdown",
      "metadata": {
        "id": "J_FG_cJW2ugT"
      },
      "source": [
        "### `Problem 4`: Write a menu-driven program -\n",
        "1. cm to ft\n",
        "2. km to miles\n",
        "3. USD to INR\n",
        "4. exit"
      ]
    },
    {
      "cell_type": "code",
      "execution_count": 11,
      "metadata": {
        "id": "yBHhaCGQ2zpD"
      },
      "outputs": [
        {
          "name": "stdout",
          "output_type": "stream",
          "text": [
            "\n",
            "Menu:\n",
            "1. Convert cm to ft\n",
            "2. Convert km to miles\n",
            "3. Convert USD to INR\n",
            "4. Exit\n",
            "10.0 cm is equal to 0.33 ft\n",
            "\n",
            "Menu:\n",
            "1. Convert cm to ft\n",
            "2. Convert km to miles\n",
            "3. Convert USD to INR\n",
            "4. Exit\n",
            "57.0 km is equal to 35.42 miles\n",
            "\n",
            "Menu:\n",
            "1. Convert cm to ft\n",
            "2. Convert km to miles\n",
            "3. Convert USD to INR\n",
            "4. Exit\n",
            "$1.00 USD is equal to ₹74.51 INR\n",
            "\n",
            "Menu:\n",
            "1. Convert cm to ft\n",
            "2. Convert km to miles\n",
            "3. Convert USD to INR\n",
            "4. Exit\n",
            "Exiting the program. Goodbye!\n"
          ]
        }
      ],
      "source": [
        "def cm_to_ft(cm):\n",
        "    return cm / 30.48\n",
        "\n",
        "def km_to_miles(km):\n",
        "    return km / 1.60934\n",
        "\n",
        "def usd_to_inr(usd):\n",
        "    return usd * 74.51  # As of the last knowledge update in January 2022\n",
        "\n",
        "while True:\n",
        "    print(\"\\nMenu:\")\n",
        "    print(\"1. Convert cm to ft\")\n",
        "    print(\"2. Convert km to miles\")\n",
        "    print(\"3. Convert USD to INR\")\n",
        "    print(\"4. Exit\")\n",
        "\n",
        "    choice = input(\"Enter your choice (1-4): \")\n",
        "\n",
        "    if choice == '1':\n",
        "        cm = float(input(\"Enter length in centimeters: \"))\n",
        "        result = cm_to_ft(cm)\n",
        "        print(f\"{cm} cm is equal to {result:.2f} ft\")\n",
        "\n",
        "    elif choice == '2':\n",
        "        km = float(input(\"Enter distance in kilometers: \"))\n",
        "        result = km_to_miles(km)\n",
        "        print(f\"{km} km is equal to {result:.2f} miles\")\n",
        "\n",
        "    elif choice == '3':\n",
        "        usd = float(input(\"Enter amount in USD: \"))\n",
        "        result = usd_to_inr(usd)\n",
        "        print(f\"${usd:.2f} USD is equal to ₹{result:.2f} INR\")\n",
        "\n",
        "    elif choice == '4':\n",
        "        print(\"Exiting the program. Goodbye!\")\n",
        "        break\n",
        "\n",
        "    else:\n",
        "        print(\"Invalid choice. Please enter a number between 1 and 4.\")\n"
      ]
    },
    {
      "cell_type": "markdown",
      "metadata": {
        "id": "LJJ30_Yw27ZU"
      },
      "source": [
        "### `Problem 5` - Exercise 12: Display Fibonacci series up to 10 terms.\n",
        "\n",
        "*Note: The Fibonacci Sequence is a series of numbers. The next number is found by adding up the two numbers before it. The first two numbers are 0 and 1. For example, 0, 1, 1, 2, 3, 5, 8, 13, 21. The next number in this series above is 13+21 = 34*"
      ]
    },
    {
      "cell_type": "code",
      "execution_count": 1,
      "metadata": {
        "id": "ae_1rpe52-5R"
      },
      "outputs": [
        {
          "name": "stdout",
          "output_type": "stream",
          "text": [
            "[1, 1, 2, 3, 5, 8, 13, 21, 34, 55]\n"
          ]
        }
      ],
      "source": [
        "def fibonacci(n):\n",
        "    a,b = 0,1\n",
        "    result=[]\n",
        "    while len(result) < n:\n",
        "        result.append(b)\n",
        "        a,b=b,a+b\n",
        "    return result\n",
        "\n",
        "print([x for x in fibonacci(10)])"
      ]
    },
    {
      "cell_type": "markdown",
      "metadata": {
        "id": "pk_I_S4m3PT5"
      },
      "source": [
        "### `Problem 6` - Find the factorial of a given number.\n",
        "\n",
        "Write a program to use the loop to find the factorial of a given number.\n",
        "\n",
        "The factorial (symbol: `!`) means to multiply all whole numbers from the chosen number down to 1.\n",
        "\n",
        "For example: calculate the factorial of 5\n",
        "\n",
        "```bash\n",
        "5! = 5 × 4 × 3 × 2 × 1 = 120\n",
        "```\n",
        "\n",
        "Output:\n",
        "\n",
        "```bash\n",
        "120\n",
        "```"
      ]
    },
    {
      "cell_type": "code",
      "execution_count": 14,
      "metadata": {
        "id": "lzXxHegx3Rkc"
      },
      "outputs": [
        {
          "name": "stdout",
          "output_type": "stream",
          "text": [
            "The factorial of 5 is: 120\n"
          ]
        }
      ],
      "source": [
        "number = int(input(\"Enter a non-negative integer to find its factorial: \"))\n",
        "\n",
        "def calculate_factorial(number):\n",
        "    # Initialize the factorial to 1\n",
        "    factorial = 1\n",
        "\n",
        "    # Check if the number is non-negative\n",
        "    if number < 0:\n",
        "        return \"Factorial is not defined for negative numbers.\"\n",
        "    elif number == 0:\n",
        "        return 1  # 0! is defined to be 1\n",
        "    else:\n",
        "        # Use a loop to calculate the factorial\n",
        "        for i in range(1, number + 1):\n",
        "            factorial *= i\n",
        "\n",
        "        return factorial\n",
        "    \n",
        "result = calculate_factorial(number)\n",
        "print(f\"The factorial of {number} is: {result}\")"
      ]
    },
    {
      "cell_type": "markdown",
      "metadata": {
        "id": "-17IOi-g3UpU"
      },
      "source": [
        "### `Problem 7` - Reverse a given integer number.\n",
        "\n",
        "Example:\n",
        "\n",
        "`Input:`\n",
        "\n",
        "```bash\n",
        "76542\n",
        "```\n",
        "\n",
        "`Output:`\n",
        "\n",
        "```bash\n",
        "24567\n",
        "```"
      ]
    },
    {
      "cell_type": "code",
      "execution_count": 15,
      "metadata": {
        "id": "wJwLpKCr3aVA"
      },
      "outputs": [
        {
          "name": "stdout",
          "output_type": "stream",
          "text": [
            "The reverse of 4378 is: 8734\n"
          ]
        }
      ],
      "source": [
        "number = int(input(\"Enter an integer to reverse: \"))\n",
        "def reverse_integer(number):\n",
        "    # Initialize variables\n",
        "    reversed_number = 0\n",
        "    original_number = number\n",
        "\n",
        "    # Reverse the digits using a loop\n",
        "    while number > 0:\n",
        "        digit = number % 10\n",
        "        reversed_number = reversed_number * 10 + digit\n",
        "        number //= 10\n",
        "\n",
        "    return original_number, reversed_number\n",
        "\n",
        "# Reverse the integer and get the result\n",
        "original_number, reversed_number = reverse_integer(number)\n",
        "\n",
        "# Display the result\n",
        "print(f\"The reverse of {original_number} is: {reversed_number}\")"
      ]
    },
    {
      "cell_type": "markdown",
      "metadata": {
        "id": "-t8PJQaY3sHf"
      },
      "source": [
        "     `Problem 8`: Take a user input as integer N. Find out the sum from 1 to N. If any number if divisible by 5, then skip that number. And if the sum is greater than 300, don't need to calculate the sum further more. Print the final result. And don't use for loop to solve this problem.\n",
        "\n",
        "**Example 1:**\n",
        "\n",
        "`Input:`\n",
        "\n",
        "```bash\n",
        "30\n",
        "```\n",
        "\n",
        "`Output:`\n",
        "\n",
        "```bash\n",
        "276\n",
        "```"
      ]
    },
    {
      "cell_type": "code",
      "execution_count": 13,
      "metadata": {},
      "outputs": [
        {
          "name": "stdout",
          "output_type": "stream",
          "text": [
            "Final result: 303\n"
          ]
        }
      ],
      "source": [
        "N = int(input(\"Enter a number: \"))\n",
        "\n",
        "total_sum = 0\n",
        "i = 1\n",
        "\n",
        "while i <= N:\n",
        "    if i % 5 == 0:\n",
        "        i += 1\n",
        "        continue\n",
        "    \n",
        "    total_sum += i\n",
        "\n",
        "    if total_sum > 300:\n",
        "        break\n",
        "\n",
        "    i += 1\n",
        "\n",
        "print(\"Final result:\", total_sum)\n"
      ]
    },
    {
      "cell_type": "markdown",
      "metadata": {
        "id": "Q7ggImeA3xm4"
      },
      "source": [
        "### `Problem 9`: Write a program that keeps on accepting a number from the user until the user enters Zero. Display the sum and average of all the numbers."
      ]
    },
    {
      "cell_type": "code",
      "execution_count": 16,
      "metadata": {
        "id": "t_YDSZDe4Kdo"
      },
      "outputs": [
        {
          "name": "stdout",
          "output_type": "stream",
          "text": [
            "Sum: 70.0\n",
            "Average: 14.00\n"
          ]
        }
      ],
      "source": [
        "# Initialize variables\n",
        "total_sum = 0\n",
        "count = 0\n",
        "\n",
        "# Keep accepting numbers until the user enters zero\n",
        "while True:\n",
        "    try:\n",
        "        num = float(input(\"Enter a number (enter 0 to stop): \"))\n",
        "    except ValueError:\n",
        "        print(\"Invalid input. Please enter a valid number.\")\n",
        "        continue\n",
        "\n",
        "    # Check if the entered number is zero\n",
        "    if num == 0:\n",
        "        break\n",
        "    \n",
        "    # Update the sum and count\n",
        "    total_sum += num\n",
        "    count += 1\n",
        "\n",
        "# Calculate the average (avoid division by zero)\n",
        "average = total_sum / count if count != 0 else 0\n",
        "\n",
        "# Display the sum and average\n",
        "print(f\"Sum: {total_sum}\")\n",
        "print(f\"Average: {average:.2f}\")\n"
      ]
    },
    {
      "cell_type": "markdown",
      "metadata": {
        "id": "6EhvEMvm4R7s"
      },
      "source": [
        "###`Problem 9`: Write a program which will find all such numbers which are divisible by 7 but are not a multiple of 5, between 2000 and 3200 (both included). The numbers obtained should be printed in a comma-separated sequence on a single line."
      ]
    },
    {
      "cell_type": "code",
      "execution_count": 1,
      "metadata": {
        "id": "d6RgP1B34T6c"
      },
      "outputs": [
        {
          "name": "stdout",
          "output_type": "stream",
          "text": [
            "2002,2009,2016,2023,2037,2044,2051,2058,2072,2079,2086,2093,2107,2114,2121,2128,2142,2149,2156,2163,2177,2184,2191,2198,2212,2219,2226,2233,2247,2254,2261,2268,2282,2289,2296,2303,2317,2324,2331,2338,2352,2359,2366,2373,2387,2394,2401,2408,2422,2429,2436,2443,2457,2464,2471,2478,2492,2499,2506,2513,2527,2534,2541,2548,2562,2569,2576,2583,2597,2604,2611,2618,2632,2639,2646,2653,2667,2674,2681,2688,2702,2709,2716,2723,2737,2744,2751,2758,2772,2779,2786,2793,2807,2814,2821,2828,2842,2849,2856,2863,2877,2884,2891,2898,2912,2919,2926,2933,2947,2954,2961,2968,2982,2989,2996,3003,3017,3024,3031,3038,3052,3059,3066,3073,3087,3094,3101,3108,3122,3129,3136,3143,3157,3164,3171,3178,3192,3199\n"
          ]
        }
      ],
      "source": [
        "# Initialize an empty list to store the numbers\n",
        "result_numbers = []\n",
        "\n",
        "# Iterate through numbers between 2000 and 3200 (both included)\n",
        "for number in range(2000, 3201):\n",
        "    # Check if the number is divisible by 7 and not a multiple of 5\n",
        "    if number % 7 == 0 and number % 5 != 0:\n",
        "        result_numbers.append(str(number))\n",
        "\n",
        "# Print the result as a comma-separated sequence on a single line\n",
        "print(\",\".join(result_numbers))\n"
      ]
    },
    {
      "cell_type": "code",
      "execution_count": 17,
      "metadata": {},
      "outputs": [
        {
          "name": "stdout",
          "output_type": "stream",
          "text": [
            "2002, 2009, 2016, 2023, 2037, 2044, 2051, 2058, 2072, 2079, 2086, 2093, 2107, 2114, 2121, 2128, 2142, 2149, 2156, 2163, 2177, 2184, 2191, 2198, 2212, 2219, 2226, 2233, 2247, 2254, 2261, 2268, 2282, 2289, 2296, 2303, 2317, 2324, 2331, 2338, 2352, 2359, 2366, 2373, 2387, 2394, 2401, 2408, 2422, 2429, 2436, 2443, 2457, 2464, 2471, 2478, 2492, 2499, 2506, 2513, 2527, 2534, 2541, 2548, 2562, 2569, 2576, 2583, 2597, 2604, 2611, 2618, 2632, 2639, 2646, 2653, 2667, 2674, 2681, 2688, 2702, 2709, 2716, 2723, 2737, 2744, 2751, 2758, 2772, 2779, 2786, 2793, 2807, 2814, 2821, 2828, 2842, 2849, 2856, 2863, 2877, 2884, 2891, 2898, 2912, 2919, 2926, 2933, 2947, 2954, 2961, 2968, 2982, 2989, 2996, 3003, 3017, 3024, 3031, 3038, 3052, 3059, 3066, 3073, 3087, 3094, 3101, 3108, 3122, 3129, 3136, 3143, 3157, 3164, 3171, 3178, 3192, 3199, "
          ]
        }
      ],
      "source": [
        "for num in range(2000, 3201):\n",
        "    if num % 7 == 0 and num % 5 != 0:\n",
        "        print(num , end=', ')\n"
      ]
    },
    {
      "cell_type": "markdown",
      "metadata": {
        "id": "tYvmRR-G4Vp4"
      },
      "source": [
        "###`Problem 10`: Write a program, which will find all such numbers between 1000 and 3000 (both included) such that each digit of the number is an even number. The numbers obtained should be printed in a space-separated sequence on a single line.\n",
        "\n"
      ]
    },
    {
      "cell_type": "code",
      "execution_count": 18,
      "metadata": {
        "id": "k6Gs1kIf4k19"
      },
      "outputs": [
        {
          "name": "stdout",
          "output_type": "stream",
          "text": [
            "2000,2002,2004,2006,2008,2020,2022,2024,2026,2028,2040,2042,2044,2046,2048,2060,2062,2064,2066,2068,2080,2082,2084,2086,2088,2200,2202,2204,2206,2208,2220,2222,2224,2226,2228,2240,2242,2244,2246,2248,2260,2262,2264,2266,2268,2280,2282,2284,2286,2288,2400,2402,2404,2406,2408,2420,2422,2424,2426,2428,2440,2442,2444,2446,2448,2460,2462,2464,2466,2468,2480,2482,2484,2486,2488,2600,2602,2604,2606,2608,2620,2622,2624,2626,2628,2640,2642,2644,2646,2648,2660,2662,2664,2666,2668,2680,2682,2684,2686,2688,2800,2802,2804,2806,2808,2820,2822,2824,2826,2828,2840,2842,2844,2846,2848,2860,2862,2864,2866,2868,2880,2882,2884,2886,2888\n"
          ]
        }
      ],
      "source": [
        "lst = []\n",
        "\n",
        "for i in range(1000,3001):\n",
        "    flag = 1\n",
        "    for j in str(i):          # every integer number i is converted into string\n",
        "        if ord(j)%2 != 0:     # ord returns ASCII value and j is every digit of i\n",
        "            flag = 0          # flag becomes zero if any odd digit found\n",
        "    if flag == 1:\n",
        "        lst.append(str(i))    # i is stored in list as string\n",
        "\n",
        "print(\",\".join(lst))"
      ]
    },
    {
      "cell_type": "code",
      "execution_count": 19,
      "metadata": {},
      "outputs": [
        {
          "name": "stdout",
          "output_type": "stream",
          "text": [
            "2000,2002,2004,2006,2008,2020,2022,2024,2026,2028,2040,2042,2044,2046,2048,2060,2062,2064,2066,2068,2080,2082,2084,2086,2088,2200,2202,2204,2206,2208,2220,2222,2224,2226,2228,2240,2242,2244,2246,2248,2260,2262,2264,2266,2268,2280,2282,2284,2286,2288,2400,2402,2404,2406,2408,2420,2422,2424,2426,2428,2440,2442,2444,2446,2448,2460,2462,2464,2466,2468,2480,2482,2484,2486,2488,2600,2602,2604,2606,2608,2620,2622,2624,2626,2628,2640,2642,2644,2646,2648,2660,2662,2664,2666,2668,2680,2682,2684,2686,2688,2800,2802,2804,2806,2808,2820,2822,2824,2826,2828,2840,2842,2844,2846,2848,2860,2862,2864,2866,2868,2880,2882,2884,2886,2888\n"
          ]
        }
      ],
      "source": [
        "def check(element):\n",
        "    return all(ord(i)%2 == 0 for i in element)  # all returns True if all digits i is even in element\n",
        "\n",
        "lst = [str(i) for i in range(1000,3001)]        # creates list of all given numbers with string data type\n",
        "lst = list(filter(check,lst))                   # filter removes element from list if check condition fails\n",
        "print(\",\".join(lst))"
      ]
    },
    {
      "cell_type": "markdown",
      "metadata": {
        "id": "GV18IINT4mf5"
      },
      "source": [
        "    `Problem 11`: A robot moves in a plane starting from the original point (0,0). The robot can move toward UP, DOWN, LEFT and RIGHT with a given steps.\n",
        "The trace of robot movement is shown as the following:\n",
        "```\n",
        "UP 5\n",
        "DOWN 3\n",
        "LEFT 3\n",
        "RIGHT 2\n",
        "!\n",
        "```\n",
        "     The numbers after the direction are steps.\n",
        "\n",
        "     `!` means robot stop there.\n",
        "\n",
        "**Please write a program to compute the distance from current position after a sequence of movement and original point.**\n",
        "\n",
        "*If the distance is a float, then just print the nearest integer.*\n",
        "\n",
        "Example:\n",
        "\n",
        "`Input`:\n",
        "```\n",
        "UP 5\n",
        "DOWN 3\n",
        "LEFT 3\n",
        "RIGHT 2\n",
        "!\n",
        "```\n",
        "`Output`:\n",
        "```\n",
        "2\n",
        "```"
      ]
    },
    {
      "cell_type": "code",
      "execution_count": null,
      "metadata": {
        "id": "6UNMC2aR4w5x"
      },
      "outputs": [],
      "source": [
        "# Write code here"
      ]
    },
    {
      "cell_type": "markdown",
      "metadata": {
        "id": "3fsAIAhK5GYY"
      },
      "source": [
        "    `Problem 12`:Write a program to print whether a given number is a prime number or not"
      ]
    },
    {
      "cell_type": "code",
      "execution_count": 3,
      "metadata": {
        "id": "j6y91lxy5LZs"
      },
      "outputs": [
        {
          "name": "stdout",
          "output_type": "stream",
          "text": [
            "5 is a prime number.\n"
          ]
        }
      ],
      "source": [
        "num = int(input(\"Enter a number to check if it's prime: \"))\n",
        "def is_prime(number):\n",
        "    # Check if the number is less than 2\n",
        "    if number < 2:\n",
        "        return False\n",
        "\n",
        "    # Check for factors from 2 to the square root of the number\n",
        "    for i in range(2, int(number**0.5) + 1):\n",
        "        if number % i == 0:\n",
        "            return False  # If a factor is found, the number is not prime\n",
        "\n",
        "    return True  # If no factor is found, the number is prime\n",
        "\n",
        "# Check if the number is prime and display the result\n",
        "if is_prime(num):\n",
        "    print(f\"{num} is a prime number.\")\n",
        "else:\n",
        "    print(f\"{num} is not a prime number.\")\n"
      ]
    },
    {
      "cell_type": "markdown",
      "metadata": {
        "id": "asAbmbK-5NHv"
      },
      "source": [
        "    `Problem 13`:Print all the Armstrong numbers in a given range.\n",
        "Range will be provided by the user<br>\n",
        "Armstrong number is a number that is equal to the sum of cubes of its digits. For example 0, 1, 153, 370, 371 and 407 are the Armstrong numbers."
      ]
    },
    {
      "cell_type": "code",
      "execution_count": 4,
      "metadata": {
        "id": "PZuI67pm5jCT"
      },
      "outputs": [
        {
          "name": "stdout",
          "output_type": "stream",
          "text": [
            "Armstrong numbers in the range 0 to 500:\n",
            "0\n",
            "1\n",
            "2\n",
            "3\n",
            "4\n",
            "5\n",
            "6\n",
            "7\n",
            "8\n",
            "9\n",
            "153\n",
            "370\n",
            "371\n",
            "407\n"
          ]
        }
      ],
      "source": [
        "start_range = int(input(\"Enter the start of the range: \"))\n",
        "end_range = int(input(\"Enter the end of the range: \"))\n",
        "\n",
        "def is_armstrong_number(num):\n",
        "    # Convert the number to a string to get the number of digits\n",
        "    num_str = str(num)\n",
        "    num_digits = len(num_str)\n",
        "\n",
        "    # Calculate the sum of digits each raised to the power of the number of digits\n",
        "    sum_of_digits = sum(int(digit) ** num_digits for digit in num_str)\n",
        "\n",
        "    # Check if the number is an Armstrong number\n",
        "    return num == sum_of_digits\n",
        "\n",
        "# Print Armstrong numbers within the given range\n",
        "print(f\"Armstrong numbers in the range {start_range} to {end_range}:\")\n",
        "for number in range(start_range, end_range + 1):\n",
        "    if is_armstrong_number(number):\n",
        "        print(number)\n"
      ]
    },
    {
      "cell_type": "markdown",
      "metadata": {
        "id": "ClCQZMqT7gK0"
      },
      "source": [
        "    `Problem 14`:Calculate the angle between the hour hand and minute hand.\n",
        "\n",
        "Note: There can be two angles between hands; we need to print a minimum of two. Also, we need to print the floor of the final result angle. For example, if the final angle is 10.61, we need to print 10.\n",
        "\n",
        "Input:<br>\n",
        "H = 9 , M = 0<br>\n",
        "Output:<br>\n",
        "90<br>\n",
        "Explanation:<br>\n",
        "The minimum angle between hour and minute\n",
        "hand when the time is 9 is 90 degress."
      ]
    },
    {
      "cell_type": "code",
      "execution_count": null,
      "metadata": {
        "id": "tNBTCZML7jy_"
      },
      "outputs": [],
      "source": [
        "# Write code here"
      ]
    },
    {
      "cell_type": "markdown",
      "metadata": {
        "id": "GwacF9Co72Qc"
      },
      "source": [
        "    `Problem 15`:Given two rectangles, find if the given two rectangles overlap or not. A rectangle is denoted by providing the x and y coordinates of two points: the left top corner and the right bottom corner of the rectangle. Two rectangles sharing a side are considered overlapping. (L1 and R1 are the extreme points of the first rectangle and L2 and R2 are the extreme points of the second rectangle).\n",
        "\n",
        "Note: It may be assumed that the rectangles are parallel to the coordinate axis.\n",
        "\n",
        "<img src='https://www.geeksforgeeks.org/wp-content/uploads/rectanglesOverlap.png' width='300' height='200'>"
      ]
    },
    {
      "cell_type": "code",
      "execution_count": null,
      "metadata": {
        "id": "6rrw_lpH78Rs"
      },
      "outputs": [],
      "source": [
        "# Write code here"
      ]
    }
  ],
  "metadata": {
    "colab": {
      "provenance": []
    },
    "kernelspec": {
      "display_name": "Python 3",
      "name": "python3"
    },
    "language_info": {
      "codemirror_mode": {
        "name": "ipython",
        "version": 3
      },
      "file_extension": ".py",
      "mimetype": "text/x-python",
      "name": "python",
      "nbconvert_exporter": "python",
      "pygments_lexer": "ipython3",
      "version": "3.9.10"
    }
  },
  "nbformat": 4,
  "nbformat_minor": 0
}
